{
 "cells": [
  {
   "cell_type": "code",
   "execution_count": 1,
   "metadata": {
    "collapsed": true
   },
   "outputs": [
    {
     "name": "stdout",
     "output_type": "stream",
     "text": [
      "[WindowsPath('C:/Users/k/Desktop/GitHub/GPS_transport/processed_data/aug_2019-12-02.csv'), WindowsPath('C:/Users/k/Desktop/GitHub/GPS_transport/processed_data/aug_2019-12-03.csv'), WindowsPath('C:/Users/k/Desktop/GitHub/GPS_transport/processed_data/aug_2019-12-04.csv'), WindowsPath('C:/Users/k/Desktop/GitHub/GPS_transport/processed_data/aug_2019-12-05.csv'), WindowsPath('C:/Users/k/Desktop/GitHub/GPS_transport/processed_data/aug_2019-12-06.csv'), WindowsPath('C:/Users/k/Desktop/GitHub/GPS_transport/processed_data/aug_2019-12-07.csv'), WindowsPath('C:/Users/k/Desktop/GitHub/GPS_transport/processed_data/aug_2019-12-08.csv'), WindowsPath('C:/Users/k/Desktop/GitHub/GPS_transport/processed_data/aug_2019-12-09.csv'), WindowsPath('C:/Users/k/Desktop/GitHub/GPS_transport/processed_data/aug_2019-12-10.csv'), WindowsPath('C:/Users/k/Desktop/GitHub/GPS_transport/processed_data/aug_2019-12-11.csv'), WindowsPath('C:/Users/k/Desktop/GitHub/GPS_transport/processed_data/aug_2019-12-12.csv'), WindowsPath('C:/Users/k/Desktop/GitHub/GPS_transport/processed_data/aug_2019-12-13.csv'), WindowsPath('C:/Users/k/Desktop/GitHub/GPS_transport/processed_data/aug_2019-12-14.csv'), WindowsPath('C:/Users/k/Desktop/GitHub/GPS_transport/processed_data/aug_2019-12-15.csv'), WindowsPath('C:/Users/k/Desktop/GitHub/GPS_transport/processed_data/aug_2019-12-16.csv'), WindowsPath('C:/Users/k/Desktop/GitHub/GPS_transport/processed_data/aug_2019-12-17.csv'), WindowsPath('C:/Users/k/Desktop/GitHub/GPS_transport/processed_data/aug_2019-12-18.csv'), WindowsPath('C:/Users/k/Desktop/GitHub/GPS_transport/processed_data/aug_2019-12-19.csv'), WindowsPath('C:/Users/k/Desktop/GitHub/GPS_transport/processed_data/aug_2019-12-20.csv'), WindowsPath('C:/Users/k/Desktop/GitHub/GPS_transport/processed_data/aug_2019-12-21.csv'), WindowsPath('C:/Users/k/Desktop/GitHub/GPS_transport/processed_data/aug_2019-12-22.csv'), WindowsPath('C:/Users/k/Desktop/GitHub/GPS_transport/processed_data/aug_2019-12-23.csv'), WindowsPath('C:/Users/k/Desktop/GitHub/GPS_transport/processed_data/aug_2019-12-24.csv'), WindowsPath('C:/Users/k/Desktop/GitHub/GPS_transport/processed_data/aug_2019-12-25.csv'), WindowsPath('C:/Users/k/Desktop/GitHub/GPS_transport/processed_data/aug_2019-12-26.csv'), WindowsPath('C:/Users/k/Desktop/GitHub/GPS_transport/processed_data/aug_2019-12-27.csv'), WindowsPath('C:/Users/k/Desktop/GitHub/GPS_transport/processed_data/aug_2019-12-28.csv'), WindowsPath('C:/Users/k/Desktop/GitHub/GPS_transport/processed_data/aug_2019-12-29.csv'), WindowsPath('C:/Users/k/Desktop/GitHub/GPS_transport/processed_data/aug_all.csv')]\n",
      "[WindowsPath('C:/Users/k/Desktop/GitHub/GPS_transport/processed_data/osrm_2019-12-02.csv'), WindowsPath('C:/Users/k/Desktop/GitHub/GPS_transport/processed_data/osrm_2019-12-03.csv'), WindowsPath('C:/Users/k/Desktop/GitHub/GPS_transport/processed_data/osrm_2019-12-04.csv'), WindowsPath('C:/Users/k/Desktop/GitHub/GPS_transport/processed_data/osrm_2019-12-05.csv'), WindowsPath('C:/Users/k/Desktop/GitHub/GPS_transport/processed_data/osrm_2019-12-06.csv'), WindowsPath('C:/Users/k/Desktop/GitHub/GPS_transport/processed_data/osrm_2019-12-07.csv'), WindowsPath('C:/Users/k/Desktop/GitHub/GPS_transport/processed_data/osrm_2019-12-08.csv'), WindowsPath('C:/Users/k/Desktop/GitHub/GPS_transport/processed_data/osrm_2019-12-09.csv'), WindowsPath('C:/Users/k/Desktop/GitHub/GPS_transport/processed_data/osrm_2019-12-10.csv'), WindowsPath('C:/Users/k/Desktop/GitHub/GPS_transport/processed_data/osrm_2019-12-11.csv'), WindowsPath('C:/Users/k/Desktop/GitHub/GPS_transport/processed_data/osrm_2019-12-12.csv'), WindowsPath('C:/Users/k/Desktop/GitHub/GPS_transport/processed_data/osrm_2019-12-13.csv'), WindowsPath('C:/Users/k/Desktop/GitHub/GPS_transport/processed_data/osrm_2019-12-14.csv'), WindowsPath('C:/Users/k/Desktop/GitHub/GPS_transport/processed_data/osrm_2019-12-15.csv'), WindowsPath('C:/Users/k/Desktop/GitHub/GPS_transport/processed_data/osrm_2019-12-16.csv'), WindowsPath('C:/Users/k/Desktop/GitHub/GPS_transport/processed_data/osrm_2019-12-17.csv'), WindowsPath('C:/Users/k/Desktop/GitHub/GPS_transport/processed_data/osrm_2019-12-18.csv'), WindowsPath('C:/Users/k/Desktop/GitHub/GPS_transport/processed_data/osrm_2019-12-19.csv'), WindowsPath('C:/Users/k/Desktop/GitHub/GPS_transport/processed_data/osrm_2019-12-20.csv'), WindowsPath('C:/Users/k/Desktop/GitHub/GPS_transport/processed_data/osrm_2019-12-21.csv'), WindowsPath('C:/Users/k/Desktop/GitHub/GPS_transport/processed_data/osrm_2019-12-22.csv'), WindowsPath('C:/Users/k/Desktop/GitHub/GPS_transport/processed_data/osrm_2019-12-23.csv'), WindowsPath('C:/Users/k/Desktop/GitHub/GPS_transport/processed_data/osrm_2019-12-24.csv'), WindowsPath('C:/Users/k/Desktop/GitHub/GPS_transport/processed_data/osrm_2019-12-25.csv'), WindowsPath('C:/Users/k/Desktop/GitHub/GPS_transport/processed_data/osrm_2019-12-26.csv'), WindowsPath('C:/Users/k/Desktop/GitHub/GPS_transport/processed_data/osrm_2019-12-27.csv'), WindowsPath('C:/Users/k/Desktop/GitHub/GPS_transport/processed_data/osrm_2019-12-28.csv'), WindowsPath('C:/Users/k/Desktop/GitHub/GPS_transport/processed_data/osrm_2019-12-29.csv')]\n"
     ]
    }
   ],
   "source": [
    "from pathlib import Path\n",
    "import numpy as np\n",
    "import pandas as pd\n",
    "\n",
    "data_folder = Path(\"C:/Users/k/Desktop/GitHub/GPS_transport/processed_data\")\n",
    "augment_files = list(data_folder.glob(\"aug*\"))\n",
    "osrm_files = list(data_folder.glob(\"osrm*\"))\n",
    "print(augment_files)\n",
    "print(osrm_files)"
   ]
  },
  {
   "cell_type": "code",
   "execution_count": 2,
   "outputs": [],
   "source": [
    "aug_data = pd.concat((pd.read_csv(f) for f in augment_files))"
   ],
   "metadata": {
    "collapsed": false,
    "pycharm": {
     "name": "#%%\n"
    }
   }
  },
  {
   "cell_type": "code",
   "execution_count": 3,
   "outputs": [
    {
     "name": "stdout",
     "output_type": "stream",
     "text": [
      "<class 'pandas.core.frame.DataFrame'>\n",
      "Int64Index: 26256331 entries, 0 to 533347\n",
      "Data columns (total 12 columns):\n",
      " #   Column      Dtype  \n",
      "---  ------      -----  \n",
      " 0   Unnamed: 0  int64  \n",
      " 1   segment_id  int64  \n",
      " 2   aug_time    object \n",
      " 3   aug_type    int64  \n",
      " 4   arac_id     object \n",
      " 5   route_id    int64  \n",
      " 6   lat         float64\n",
      " 7   lon         float64\n",
      " 8   dir         int64  \n",
      " 9   speed       float64\n",
      " 10  time_diff   float64\n",
      " 11  space_diff  float64\n",
      "dtypes: float64(5), int64(5), object(2)\n",
      "memory usage: 2.5+ GB\n"
     ]
    }
   ],
   "source": [
    "aug_data.info()"
   ],
   "metadata": {
    "collapsed": false,
    "pycharm": {
     "name": "#%%\n"
    }
   }
  },
  {
   "cell_type": "code",
   "execution_count": 4,
   "outputs": [],
   "source": [
    "aug_data.drop(columns=aug_data.columns[0], inplace=True)"
   ],
   "metadata": {
    "collapsed": false,
    "pycharm": {
     "name": "#%%\n"
    }
   }
  },
  {
   "cell_type": "code",
   "execution_count": 5,
   "outputs": [],
   "source": [
    "aug_data[\"segment_id\"] = aug_data[\"segment_id\"].astype(np.uint16)\n",
    "aug_data[\"aug_time\"] = aug_data[\"aug_time\"].astype(np.datetime64)\n",
    "aug_data[\"aug_type\"] = aug_data[\"aug_type\"].astype(np.uint8)\n",
    "# aug_data[\"arac_id\"] = aug_data[\"arac_id\"].astype(\"category\")\n",
    "aug_data[\"route_id\"] = aug_data[\"route_id\"].astype(np.uint16)\n",
    "aug_data[\"dir\"] = aug_data[\"dir\"].astype(np.uint8)\n",
    "aug_data[\"time_diff\"] = pd.to_timedelta(aug_data[\"time_diff\"], unit=\"H\")"
   ],
   "metadata": {
    "collapsed": false,
    "pycharm": {
     "name": "#%%\n"
    }
   }
  },
  {
   "cell_type": "code",
   "execution_count": 6,
   "outputs": [
    {
     "name": "stdout",
     "output_type": "stream",
     "text": [
      "<class 'pandas.core.frame.DataFrame'>\n",
      "Int64Index: 26256331 entries, 0 to 533347\n",
      "Data columns (total 11 columns):\n",
      " #   Column      Dtype          \n",
      "---  ------      -----          \n",
      " 0   segment_id  uint16         \n",
      " 1   aug_time    datetime64[ns] \n",
      " 2   aug_type    uint8          \n",
      " 3   arac_id     object         \n",
      " 4   route_id    uint16         \n",
      " 5   lat         float64        \n",
      " 6   lon         float64        \n",
      " 7   dir         uint8          \n",
      " 8   speed       float64        \n",
      " 9   time_diff   timedelta64[ns]\n",
      " 10  space_diff  float64        \n",
      "dtypes: datetime64[ns](1), float64(4), object(1), timedelta64[ns](1), uint16(2), uint8(2)\n",
      "memory usage: 1.7+ GB\n"
     ]
    }
   ],
   "source": [
    "# aug_data[\"route_id\"].describe()\n",
    "\n",
    "aug_data.info()"
   ],
   "metadata": {
    "collapsed": false,
    "pycharm": {
     "name": "#%%\n"
    }
   }
  },
  {
   "cell_type": "code",
   "execution_count": 9,
   "outputs": [],
   "source": [
    "aug_data.to_csv(\"C:\\\\Users\\\\k\\\\Desktop\\\\GitHub\\\\GPS_transport\\\\processed_data\\\\aug_all.csv\")"
   ],
   "metadata": {
    "collapsed": false,
    "pycharm": {
     "name": "#%%\n"
    }
   }
  },
  {
   "cell_type": "code",
   "execution_count": 10,
   "outputs": [
    {
     "name": "stdout",
     "output_type": "stream",
     "text": [
      "<class 'pandas.core.frame.DataFrame'>\n",
      "Int64Index: 26256331 entries, 0 to 533347\n",
      "Data columns (total 11 columns):\n",
      " #   Column      Dtype          \n",
      "---  ------      -----          \n",
      " 0   segment_id  uint16         \n",
      " 1   aug_time    datetime64[ns] \n",
      " 2   aug_type    uint8          \n",
      " 3   arac_id     object         \n",
      " 4   route_id    uint16         \n",
      " 5   lat         float64        \n",
      " 6   lon         float64        \n",
      " 7   dir         uint8          \n",
      " 8   speed       float64        \n",
      " 9   time_diff   timedelta64[ns]\n",
      " 10  space_diff  float64        \n",
      "dtypes: datetime64[ns](1), float64(4), object(1), timedelta64[ns](1), uint16(2), uint8(2)\n",
      "memory usage: 1.7+ GB\n"
     ]
    }
   ],
   "source": [
    "# data_folder.absolute()\n",
    "# Path.cwd()\n",
    "\n",
    "aug_data.info()"
   ],
   "metadata": {
    "collapsed": false,
    "pycharm": {
     "name": "#%%\n"
    }
   }
  },
  {
   "cell_type": "code",
   "execution_count": 13,
   "outputs": [],
   "source": [
    "aug_data.to_hdf(\"C:\\\\Users\\\\k\\\\Desktop\\\\GitHub\\\\GPS_transport\\\\processed_data\\\\all.h5\", key=\"aug\")\n"
   ],
   "metadata": {
    "collapsed": false,
    "pycharm": {
     "name": "#%%\n"
    }
   }
  },
  {
   "cell_type": "code",
   "execution_count": 2,
   "outputs": [],
   "source": [
    "# n_week = 1\n",
    "osrm_data = pd.concat((pd.read_csv(f) for f in osrm_files))"
   ],
   "metadata": {
    "collapsed": false,
    "pycharm": {
     "name": "#%%\n"
    }
   }
  },
  {
   "cell_type": "code",
   "execution_count": 22,
   "outputs": [
    {
     "name": "stdout",
     "output_type": "stream",
     "text": [
      "<class 'pandas.core.frame.DataFrame'>\n",
      "Int64Index: 6831801 entries, 0 to 502937\n",
      "Data columns (total 21 columns):\n",
      " #   Column                  Dtype  \n",
      "---  ------                  -----  \n",
      " 0   Unnamed: 0              int64  \n",
      " 1   arac_id                 object \n",
      " 2   lon                     float64\n",
      " 3   lat                     float64\n",
      " 4   time_unix               int64  \n",
      " 5   route_id                int64  \n",
      " 6   confidence              float64\n",
      " 7   start_node              int64  \n",
      " 8   end_node                int64  \n",
      " 9   dir                     int64  \n",
      " 10  segment_id              int64  \n",
      " 11  isMatchedSegments       bool   \n",
      " 12  distance_to_start_node  float64\n",
      " 13  distance_to_end_node    float64\n",
      " 14  distance_from_start     float64\n",
      " 15  is_deleted              bool   \n",
      " 16  aux_route_ends          int64  \n",
      " 17  speed                   float64\n",
      " 18  time                    object \n",
      " 19  acc                     float64\n",
      " 20  is_smooth               bool   \n",
      "dtypes: bool(3), float64(8), int64(8), object(2)\n",
      "memory usage: 1009.9+ MB\n",
      "None\n",
      "   Unnamed: 0  arac_id        lon        lat       time_unix  route_id  \\\n",
      "0           4  050nlxs  32.820602  39.914225  20191202051712         0   \n",
      "1           5  050nlxs  32.819006  39.913843  20191202051722         0   \n",
      "2          23  050nlxs  32.797912  39.909100  20191202052651         1   \n",
      "3          24  050nlxs  32.799025  39.909218  20191202052700         1   \n",
      "4          55  050nlxs  32.820513  39.914204  20191202055657         4   \n",
      "\n",
      "   confidence  start_node    end_node  dir  ...  isMatchedSegments  \\\n",
      "0    0.985758  4754279538  4754279542    1  ...               True   \n",
      "1    0.985758  4754279538  4754279542    1  ...               True   \n",
      "2    0.957729  2189830341  2985970611    2  ...               True   \n",
      "3    0.957729  2189830341  2985970611    2  ...               True   \n",
      "4    0.985500  4754279538  4754279542    1  ...               True   \n",
      "\n",
      "   distance_to_start_node  distance_to_end_node  distance_from_start  \\\n",
      "0               23.057283            261.540271          2438.322722   \n",
      "1              165.658219            118.939254          2580.923658   \n",
      "2               10.738562            110.749547         70667.742341   \n",
      "3              106.578434             14.909799         70763.582213   \n",
      "4               30.999233            253.598221          2446.264671   \n",
      "\n",
      "   is_deleted  aux_route_ends      speed                 time       acc  \\\n",
      "0       False              25  51.336337  2019-12-02 05:17:12       NaN   \n",
      "1       False              25        NaN  2019-12-02 05:17:22       NaN   \n",
      "2       False             618  38.335949  2019-12-02 05:26:51       NaN   \n",
      "3       False             618        NaN  2019-12-02 05:27:00       NaN   \n",
      "4       False              25  56.996056  2019-12-02 05:56:57 -0.067978   \n",
      "\n",
      "   is_smooth  \n",
      "0      False  \n",
      "1      False  \n",
      "2      False  \n",
      "3      False  \n",
      "4      False  \n",
      "\n",
      "[5 rows x 21 columns]\n"
     ]
    }
   ],
   "source": [
    "print(osrm_data.info())\n",
    "print(osrm_data.head())"
   ],
   "metadata": {
    "collapsed": false,
    "pycharm": {
     "name": "#%%\n"
    }
   }
  },
  {
   "cell_type": "code",
   "execution_count": 3,
   "outputs": [],
   "source": [
    "osrm_data.drop(columns=[osrm_data.columns[0],\"time_unix\",\"isMatchedSegments\",\"is_deleted\",\"aux_route_ends\",\"is_smooth\",\"distance_to_end_node\"], inplace=True)"
   ],
   "metadata": {
    "collapsed": false,
    "pycharm": {
     "name": "#%%\n"
    }
   }
  },
  {
   "cell_type": "code",
   "execution_count": 4,
   "outputs": [
    {
     "name": "stdout",
     "output_type": "stream",
     "text": [
      "<class 'pandas.core.frame.DataFrame'>\n",
      "Int64Index: 27360254 entries, 0 to 510072\n",
      "Data columns (total 14 columns):\n",
      " #   Column                  Dtype         \n",
      "---  ------                  -----         \n",
      " 0   arac_id                 object        \n",
      " 1   lon                     float64       \n",
      " 2   lat                     float64       \n",
      " 3   route_id                uint16        \n",
      " 4   confidence              float64       \n",
      " 5   start_node              int64         \n",
      " 6   end_node                int64         \n",
      " 7   dir                     uint8         \n",
      " 8   segment_id              uint16        \n",
      " 9   distance_to_start_node  float64       \n",
      " 10  distance_from_start     float64       \n",
      " 11  speed                   float64       \n",
      " 12  time                    datetime64[ns]\n",
      " 13  acc                     float64       \n",
      "dtypes: datetime64[ns](1), float64(7), int64(2), object(1), uint16(2), uint8(1)\n",
      "memory usage: 2.6+ GB\n",
      "None\n"
     ]
    }
   ],
   "source": [
    "osrm_data[\"segment_id\"] = osrm_data[\"segment_id\"].astype(np.uint16)\n",
    "osrm_data[\"time\"] = osrm_data[\"time\"].astype(np.datetime64)\n",
    "# osrm_data[\"arac_id\"] = osrm_data[\"arac_id\"].astype(\"category\")\n",
    "osrm_data[\"route_id\"] = osrm_data[\"route_id\"].astype(np.uint16)\n",
    "osrm_data[\"dir\"] = osrm_data[\"dir\"].astype(np.uint8)\n",
    "\n",
    "\n",
    "print(osrm_data.info())"
   ],
   "metadata": {
    "collapsed": false,
    "pycharm": {
     "name": "#%%\n"
    }
   }
  },
  {
   "cell_type": "code",
   "execution_count": 5,
   "outputs": [],
   "source": [
    "osrm_data.to_hdf(\"C:\\\\Users\\\\k\\\\Desktop\\\\GitHub\\\\GPS_transport\\\\processed_data\\\\osrm_all.h5\", key=\"osrm\")"
   ],
   "metadata": {
    "collapsed": false,
    "pycharm": {
     "name": "#%%\n"
    }
   }
  }
 ],
 "metadata": {
  "kernelspec": {
   "name": "myenv",
   "language": "python",
   "display_name": "koko_env"
  },
  "language_info": {
   "codemirror_mode": {
    "name": "ipython",
    "version": 2
   },
   "file_extension": ".py",
   "mimetype": "text/x-python",
   "name": "python",
   "nbconvert_exporter": "python",
   "pygments_lexer": "ipython2",
   "version": "2.7.6"
  }
 },
 "nbformat": 4,
 "nbformat_minor": 0
}